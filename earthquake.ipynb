{
  "nbformat": 4,
  "nbformat_minor": 0,
  "metadata": {
    "colab": {
      "provenance": [],
      "include_colab_link": true
    },
    "kernelspec": {
      "name": "python3",
      "display_name": "Python 3"
    },
    "language_info": {
      "name": "python"
    }
  },
  "cells": [
    {
      "cell_type": "markdown",
      "metadata": {
        "id": "view-in-github",
        "colab_type": "text"
      },
      "source": [
        "<a href=\"https://colab.research.google.com/github/limedosa/HarvardDatathonLISH-23/blob/main/earthquake.ipynb\" target=\"_parent\"><img src=\"https://colab.research.google.com/assets/colab-badge.svg\" alt=\"Open In Colab\"/></a>"
      ]
    },
    {
      "cell_type": "markdown",
      "source": [
        "# **Welcome to the Datathon@LISH Colab Notebook**\n",
        "\n",
        "This is the official contest notebook template for the [Datathon@LISH](https://sites.google.com/view/datathonatlish ). Use this notebook to compete in the competition!\n",
        "\n",
        "If you've never used Colab before, don't worry - it's basically a cloud-based Jupyter notebook. Here are some simple instructions to get you started:\n",
        "*   Double-click on a cell to edit it. To run a cell, either press the \"play\" button on the left, or press \"Ctrl/Cmd\" + \"Enter\".\n",
        "*   To open the table of contents for the notebook, click the \"Table of contents\" button in the top left (above the &#128269;)\n",
        "*   [Use \"Ctrl/Cmd + m\" then \"h\"](https://tuewithmorris.medium.com/google-colab-notebooks-keyboard-shortcuts-aa6a008fb91b) to pull up a quick overview of the main keyboard shortcuts.\n",
        "*   We recommend just playing around to get familiar. However, if you want a more systematic introduction, you can find more information on [the official Colab tutorial](https://colab.research.google.com/?utm_source=scs-index).\n",
        "\n"
      ],
      "metadata": {
        "id": "TUnzh9Nu77Cx"
      }
    },
    {
      "cell_type": "markdown",
      "source": [
        "# **Competition Rules and Submission Process for the Datathon@LISH**\n"
      ],
      "metadata": {
        "id": "fsRK6Rl19Epv"
      }
    },
    {
      "cell_type": "markdown",
      "source": [
        "## Setting Up Your Notebook and Sharing It with Us (*Important*)\n",
        "\n",
        "You'll need to make a copy of this notebook (stored in your personal google drive) *and* share the notebook with the contest google account (hbs.research.faculty@gmail.com). This is our mechanism for both verifying compliance to contest rules and collecting your code for reseach purposes. In order to do this, complete the following steps:\n",
        "1. Ensure that you’ve signed into a google account that associates with an email that you shared with us in the pre-contest survey. (This step is important to ensure that we can link the notebook to your pre-contest survey information)\n",
        "2. \tCreate a copy of the notebook in your personal Google Drive folder ([top left of page] File > Save a Copy in Drive), modifying the title to be relatively unique (e.g. adding your initials). [GIF of how to do this.](https://i.imgur.com/Mo4mpdt.mp4)\n",
        "3. \tShare [top-right of page] the newly created notebook with our contest organizer account (hbs.research.faculty@gmail.com) as an \"**Editor**\". Note that we will only use code for verifying rule compliance and research analysis, but will not be editing or monitoring the code during the contest - so please feel free to develop code as you would normally. [GIF of how to do this.](https://i.imgur.com/1Zw4yYl.mp4)\n",
        "\n",
        "This is the last bit of setup you need to do before starting on the problem. Once you’ve completed these steps, you’re all set to get started working!"
      ],
      "metadata": {
        "id": "FPWS3F8Vz2-C"
      }
    },
    {
      "cell_type": "markdown",
      "source": [
        "## Competition Rules *(Please Read Carefully!)*"
      ],
      "metadata": {
        "id": "px_k4AMEH6m0"
      }
    },
    {
      "cell_type": "markdown",
      "source": [
        "<a name=\"rules\"></a>\n",
        "Our datathon is split across two tracks, each with slightly different rules and with different contest rankings and winners. Your team has been randomly assigned to **Track von Neumann**, which has the rules listed below. Note that prizes will be awarded *within* your track, so everyone that you are competing against faces the same rules.\n",
        "\n",
        "+ **Contest Timeline.** You have until 5PM EST on Sunday, October 15th, 2023 to work on the problem. After that time, our kaggle submission website will not accept new predictions. You can see the contest timeline and remaining time in the contest on [our datathon website](https://sites.google.com/view/datathonatlish/home).\n",
        "+ **Do All of Your Work in This Notebook**. All work you (and your partner) do on the competition must be done within this notebook - you may *not* use your own integrated development environment (IDE). This includes any exploration of the data or problem space that you conduct before arriving at a final model.\n",
        "+ **No Additional Data Sets**. Do not use any additional data sets not already provided in this notebook. You may create new features based on existing features in the provided data.\n",
        ">We must be able to run your notebook from start to finish using only the input data files we have provided. Therefore, this notebook must contain all code necessary to produce your final submission to the competition. Before making your final submission, we recommend re-running your entire notebook in a clean environment to ensure it runs properly.\n",
        "+ **No External Help**. Do not discuss the details of the competition, prediction problem, or data set with anyone else (including other contest participants). All work should be your own (or your competition partner's).\n",
        "  >You may freely consult textbooks, documentation, and websites such as stack-overflow.\n",
        "+ &#9940; **Constraint on AI Tools.** As part of the competition we are giving you 48-hour access to an exciting new LLM tool known as **julius.ai**. This tool is an interactive environment built on GPT-4 that allows you to upload data files and run analyses on those files with the help of the GPT-4 LLM. It is similar to ChatGPT's code interpreter but provides more RAM and has access to a greater number of Python packages.  \n",
        "  > *For the competition you must use the julius.ai account we provide to you if you want assistance from an AI coding tool.* This means you may *not* use ChatGPT, Github Copilot, or any other AI assistant tools. If you have any questions about whether a particular tool is allowed, please reach out to the Datathon team at datathonatlish@hbs.edu.\n",
        "To access your premium julius.ai account, follow the instructions [here](https://drive.google.com/file/d/1yn8zqQPrDLf-XAzx_yoV07GTt85ZYgar/view?usp=sharing).\n",
        "\n",
        "We will collect contest code at the end of the competition in order to verify rule compliance - if your code breaks any of the rules, then you will be excluded from consideration for contest prizes. We will also collect the logs of your interactions with julius.ai for research purposes."
      ],
      "metadata": {
        "id": "-aRwqkcwzhxO"
      }
    },
    {
      "cell_type": "markdown",
      "source": [
        "## &#9940; Confirm Rule Compliance\n",
        "\n",
        "**I confirm that I followed all of the stated rules of the competition, including the constraint on AI tools.**\n",
        "\n",
        "Please type your full name(s) below to indicate your agreement with the above statement."
      ],
      "metadata": {
        "id": "pHkZLUcr8RCZ"
      }
    },
    {
      "cell_type": "markdown",
      "source": [
        "<u>Participant #1</u>: [TYPE FULL NAME HERE TO AGREE TO THE ABOVE STATEMENT]"
      ],
      "metadata": {
        "id": "_9RsosEH7GnO"
      }
    },
    {
      "cell_type": "markdown",
      "source": [
        "<u>Participant #2</u> (*if applicable*): [TYPE FULL NAME HERE TO AGREE TO THE ABOVE STATEMENT]"
      ],
      "metadata": {
        "id": "3UvPGF0l8EgA"
      }
    },
    {
      "cell_type": "markdown",
      "source": [
        "## Prizes, Submitting Predictions, and Prize Eligibility\n",
        "1. Prizes will be awarded within your contest track, based on your performance in the out-of-sample holdout vs others in the same track. This means that you may not be directly competing against some of your friends; however, it also means there’s less competition and a better chance for you to win a prize!\n",
        "2. Your predictions must be submitted to Kaggle to be counted towards a prize. As you work on the problem within this notebook, you can make multiple submissions to the prediction competition hosted on Kaggle [here](https://www.kaggle.com/t/fdfd0bf3248241d9a199835295d4c39c). The **Submit to Competition** section at the bottom of the notebook contains instructions and code snippets for exporting and submitting your predictions.\n",
        "2. The prizes (for each track) are as follows:\n",
        "  - First Prize: \\$1000 Cash\n",
        "  - Second Prize: \\$500 Cash\n",
        "  - Third Prize: \\$250 Cash\n",
        "  - Top-Ten (Places 4th through 10th): \\$50 Amazon Gift Card\n",
        "  - Participation Prize: \\$10 Amazon Gift Card\n",
        "  - Documentation Prize: \\$500 Cash\n",
        "3. In order to be eligible to receive contest prizes, you (or your partner) must over 18 years old and be an affiliate of a US-based university. To win a cash prize, you must additionally be eligible to work in the USA (i.e. have a SSN). In addition, the following conditions must hold:\n",
        "  1.  Completion of the Pre- and Post- Contest Surveys\n",
        "  2.  You Shared Your Colab Notebook with hbs.research.faculty@gmail.com.\n",
        "  3.  You Submitted a Kaggle Submission on your assigned Contest Track that beats the competition baseline score.\n",
        "  4.  You Code passes our automated Rule Checker, which will enforce contest rules (listed above).\n",
        "\n",
        "  We will send status check emails periodically throughout the contest to ensure that you have opportunities to complete all of these steps!\n"
      ],
      "metadata": {
        "id": "YbN0_DJvOAXZ"
      }
    },
    {
      "cell_type": "markdown",
      "source": [
        "# **Data Challenge Overview -- Richter's Predictor: Modeling Earthquake Damage**\n",
        "\n",
        "The impact of an earthquake is profound and far-reaching, displacing communities and destroying the infrastructure their lives depend on. A smart understanding of a building’s ability to withstand earthquakes can focus efforts to improve building infrastructure and mitigate the damage caused by future earthquakes. In this competition, you will solve a binary classification focused on predicting the level of damage to buildings caused by the 2015 Gorkha earthquake in Nepal, based on aspects of building location and construction.\n",
        "\n",
        "We will evaluate prediction quality according to a [Log-Loss Error Function](https://www.kaggle.com/dansbecker/what-is-log-loss). (Note that this is different than Percent Accuracy!) As you know, a good statistical model is paramount for helping organizations allocate maintenance resources effectively. We’ve sourced this problem from our friends at [DrivenData](https://www.drivendata.org/), who are some awesome alumni of Harvard Business School and the School of Engineering and Applied Sciences."
      ],
      "metadata": {
        "id": "bwiIrTn9oS2A"
      }
    },
    {
      "cell_type": "markdown",
      "source": [
        "## **Data Dictionary**\n",
        "\n",
        "---\n",
        "\n",
        "\n",
        "\n",
        "**Target Feature**:\n",
        "+ `damage_grade`: level of damage to the building that was hit by the earthquake. There are 2 grades of the damage:\n",
        "\n",
        "  + `0` represents low damage\n",
        "  + `1` represents moderate to high damage\n",
        "\n",
        "**Predictors**: <br>\n",
        "* `geo_level_1_id, geo_level_2_id, geo_level_3_id_group` : geographic region in which building exists, from largest (level 1) to most specific sub-region (level 3).\n",
        "* `count_floors_pre_eq`: number of floors in the building before the earthquake.\n",
        "* `age`: age of the building in years\n",
        "* `area_percentage`: normalized area of the building footprint.\n",
        "* `height_percentage`: normalized height of the building.\n",
        "footprint.\n",
        "* `land_surface_condition`: surface condition of the land where the building was built.\n",
        "* `foundation_type`: type of foundation used while building.\n",
        "* `roof_type`: type of roof used while building.\n",
        "* `ground_floor_type`: type of the ground floor.\n",
        "* `other_floor_type`: type of constructions used above the ground floor.\n",
        "* `position`: position of the building\n",
        "* `plan_configuration`: building plan configuration.\n",
        "* `has_superstructure_adobe_mud`: flag variable that indicates if the superstructure was made of Adobe/Mud.\n",
        "* `has_superstructure_mud_mortar_stone`: flag variable that indicates if the superstructure was made of Mud Mortar - Stone.\n",
        "* `has_superstructure_stone_flag`: flag variable that indicates if the superstructure was made of Stone.\n",
        "* `has_superstructure_cement_mortar_stone`: flag variable that indicates if the superstructure was made of Mud Mortar - Brick.\n",
        "* `has_superstructure_mud_mortar_brick`: flag variable that indicates if the superstructure was made of Mud Mortar - Brick.\n",
        "* `has_superstructure_cement_mortar_brick`: flag variable that indicates if the superstructure was made of Cement Mortar - Brick.\n",
        "* `has_superstructure_timber`: flag variable that indicates if the superstructure was made of Timber.\n",
        "* `has_superstructure_bamboo`: flag variable that indicates if the superstructure was made of Bamboo.\n",
        "* `has_superstructure_rc_non_engineered`: flag variable that indicates if the superstructure was made of non-engineered reinforced concrete.\n",
        "* `has_superstructure_rc_engineered`: flag variable that indicates if the superstructure was made of engineered reinforced concrete.\n",
        "* `has_superstructure_other`: flag variable that indicates if the superstructure was made of any other material.\n",
        "* `legal_ownership_status`: legal ownership status of the land where the building was built.\n",
        "* `count_families`: number of families that live in the building.\n",
        "* `has_secondary_use`: flag variable that indicates if the building was used for any secondary purpose.\n",
        "* `has_secondary_use_agriculture`: flag variable that indicates if the building was used for agricultural purposes.\n",
        "* `has_secondary_use_hotel`: flag variable that indicates if the building was used as a hotel.\n",
        "* `has_secondary_use_rental`: flag variable that indicates if the building was used for rental purposes.\n",
        "* `has_secondary_use_institution`: flag variable that indicates if the building was used as a location of any institution.\n",
        "* `has_secondary_use_school`: flag variable that indicates if the building was used as a school.\n",
        "* `has_secondary_use_industry`: flag variable that indicates if the building was used for industrial purposes.\n",
        "* `has_secondary_use_health_post`: flag variable that indicates if the building was used as a health post.\n",
        "* `has_secondary_use_gov_office`: flag variable that indicates if the building was used fas a government office.\n",
        "* `has_secondary_use_use_police`: flag variable that indicates if the building was used as a police station.\n",
        "* `has_secondary_use_other`: flag variable that indicates if the building was secondarily used for other purposes."
      ],
      "metadata": {
        "id": "Gc4YtrEMSmjn"
      }
    },
    {
      "cell_type": "markdown",
      "source": [
        "# **Your Contest Code**"
      ],
      "metadata": {
        "id": "kj33bnYuoYha"
      }
    },
    {
      "cell_type": "markdown",
      "metadata": {
        "id": "4gEuFfBY5jYS"
      },
      "source": [
        "## **Load Data**\n",
        "\n",
        "Run the cell below to download and read in the training data."
      ]
    },
    {
      "cell_type": "code",
      "metadata": {
        "id": "HMEf2HarZgBG"
      },
      "source": [
        "# Do not modify this\n",
        "%autosave 60\n",
        "import gdown\n",
        "import pandas as pd\n",
        "\n",
        "# Download the training data from drive\n",
        "trainURL = \"https://drive.google.com/uc?id=1PT2rvIbVivi--VnpsiCvonZwquWKbPXX\"\n",
        "gdown.download(trainURL, \"train.csv\", quiet=True)\n",
        "\n",
        "# Read in the training data to a pandas dataframe called train\n",
        "train = pd.read_csv(\"train.csv\")\n",
        "train.head()"
      ],
      "execution_count": null,
      "outputs": []
    },
    {
      "cell_type": "markdown",
      "metadata": {
        "id": "UeUOxmn39iLQ"
      },
      "source": [
        "## **Load Packages**\n",
        "\n",
        "You are free to use external packages to aid in your analyses. Note that many data science packages are already installed in the Colab environment. You may also install additional packages if necessary ([instructions](https://www.kindacode.com/snippet/how-to-install-python-libraries-in-google-colab/))."
      ]
    },
    {
      "cell_type": "code",
      "metadata": {
        "id": "OiVap60l9xdu"
      },
      "source": [
        "# Load packages here;"
      ],
      "execution_count": null,
      "outputs": []
    },
    {
      "cell_type": "markdown",
      "metadata": {
        "id": "-Xe4vPz7CD7b"
      },
      "source": [
        "## **Your Work**\n",
        "\n",
        "Use this section to develop your predictive models. You may create additional code cells, and are encouraged to add text cells that explain the steps of your analysis. When you are satisfied with your model, follow the steps in the **Submit to Competition** section to make a submission to our competition on Kaggle.\n",
        "\n",
        "+ As much as possible, try to group your analyses according to the subheaders within this section. For example, if you choose to do any feature engineering, do it within the *Feature Engineering* section below."
      ]
    },
    {
      "cell_type": "markdown",
      "metadata": {
        "id": "S-7xEfoDvQ0M"
      },
      "source": [
        "### Exploratory Data Analysis (EDA)"
      ]
    },
    {
      "cell_type": "code",
      "metadata": {
        "id": "XdRzqCzTvVIJ"
      },
      "source": [
        "# Add code here to explore the data."
      ],
      "execution_count": null,
      "outputs": []
    },
    {
      "cell_type": "markdown",
      "metadata": {
        "id": "fJvFA4f2Rt79"
      },
      "source": [
        "### Feature Engineering"
      ]
    },
    {
      "cell_type": "code",
      "metadata": {
        "id": "T2EM7pF3Yr7I"
      },
      "source": [
        "# Add code here to develop features for your preditive models."
      ],
      "execution_count": null,
      "outputs": []
    },
    {
      "cell_type": "markdown",
      "metadata": {
        "id": "tHIkq-LORxCy"
      },
      "source": [
        "### Model Building"
      ]
    },
    {
      "cell_type": "code",
      "metadata": {
        "id": "q_UNAQSHYs4G"
      },
      "source": [
        "# Add code here to build your predictive models"
      ],
      "execution_count": null,
      "outputs": []
    },
    {
      "cell_type": "markdown",
      "metadata": {
        "id": "Y1HAxgFkR0tV"
      },
      "source": [
        "### Model Evaluation"
      ]
    },
    {
      "cell_type": "code",
      "metadata": {
        "id": "bz7Qzi96YtfC"
      },
      "source": [
        "# Add code here to evalute your models."
      ],
      "execution_count": null,
      "outputs": []
    },
    {
      "cell_type": "markdown",
      "metadata": {
        "id": "BuY0jI0dnl3b"
      },
      "source": [
        "## **Submit to Competition**\n",
        "\n",
        "Run the cell below to read in the test set features.\n",
        "\n",
        "Then, you can use your model to generate predictions on this data, then create a dataframe with the following format / variables:\n",
        "+ `id` - the unique ID for each observation.\n",
        "+ `predicted` - your model's predicted probability that a building has moderate/high damage.\n",
        "\n",
        "The data frame should look like the following:\n",
        "\n",
        "![image.png](data:image/png;base64,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)\n",
        "\n",
        "&#9940; Make sure the `predicted` column contains the *probability* prediction from your model and not a binary (0/1) prediction. Additionally, be aware that you are limited to 100 Kaggle submissions per day.\n",
        "\n",
        "Write this data frame to a csv file called `\"submission.csv\"`. Then download this file by opening the files pane within Colab (look for the &#128193; symbol on the left of the screen). This is shown in the gif below.\n",
        "\n",
        "After downloading the file, make a submission to our [Kaggle competition](https://www.kaggle.com/t/fdfd0bf3248241d9a199835295d4c39c). If you haven't already, you'll need to first sign in on Kaggle and hit \"**Join the Competition**\" in order to submit."
      ]
    },
    {
      "cell_type": "code",
      "metadata": {
        "id": "FT0B4GU0yGJS"
      },
      "source": [
        "# Download file with features in the test set\n",
        "testFeaturesURL = \"https://drive.google.com/uc?id=1m_VzX9dMs18w_Fiwk4Iy30T3724S8Wcg\"\n",
        "gdown.download(testFeaturesURL, \"test.csv\", quiet=True)\n",
        "\n",
        "# Read test set features into a pandas data frame\n",
        "testFeatures = pd.read_csv(\"test.csv\")\n",
        "testFeatures.head()"
      ],
      "execution_count": null,
      "outputs": []
    },
    {
      "cell_type": "code",
      "metadata": {
        "id": "BNuISjbz3d6h"
      },
      "source": [
        "# Add code to generate your predictions for the test set here."
      ],
      "execution_count": null,
      "outputs": []
    },
    {
      "cell_type": "code",
      "source": [
        "# See below for an example of exporting a pandas data frame called \"submission\" to a csv file."
      ],
      "metadata": {
        "id": "uDDN9QhXBDqf"
      },
      "execution_count": null,
      "outputs": []
    },
    {
      "cell_type": "code",
      "source": [
        "#@title\n",
        "from IPython.display import HTML\n",
        "\n",
        "HTML(\"\"\"\n",
        "<div align=\"left\">\n",
        "<video width=\"70%\" controls>\n",
        "      <source src=\"https://i.imgur.com/GQy0Gm5.mp4\" type=\"video/mp4\">\n",
        "</video></div>\"\"\")"
      ],
      "metadata": {
        "colab": {
          "base_uri": "https://localhost:8080/",
          "height": 544
        },
        "cellView": "form",
        "id": "E5fJ_yRXA81C",
        "outputId": "00d9eaaa-153d-4ad3-88a8-315f80eb85a1"
      },
      "execution_count": null,
      "outputs": [
        {
          "output_type": "execute_result",
          "data": {
            "text/html": [
              "\n",
              "<div align=\"left\">\n",
              "<video width=\"70%\" controls>\n",
              "      <source src=\"https://i.imgur.com/GQy0Gm5.mp4\" type=\"video/mp4\">\n",
              "</video></div>"
            ],
            "text/plain": [
              "<IPython.core.display.HTML object>"
            ]
          },
          "metadata": {},
          "execution_count": 28
        }
      ]
    }
  ]
}